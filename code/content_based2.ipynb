{
 "cells": [
  {
   "cell_type": "code",
   "execution_count": null,
   "metadata": {},
   "outputs": [],
   "source": [
    "import numpy as np\n",
    "import pandas as pd\n",
    "import re\n",
    "import random\n",
    "from sklearn.metrics.pairwise import euclidean_distances, cosine_distances\n",
    "\n",
    "# import and run file\n",
    "from importnb import imports\n",
    "with imports(\"ipynb\"):\n",
    "    import data_preparation\n",
    "%run data_preparation.ipynb"
   ]
  },
  {
   "cell_type": "markdown",
   "metadata": {},
   "source": [
    "# Jaccard Distance"
   ]
  },
  {
   "cell_type": "code",
   "execution_count": null,
   "metadata": {},
   "outputs": [],
   "source": [
    "# add cuisine to the description\n",
    "restaurants['Augmented Description'] = restaurants['Brief Description'] + ' ' + restaurants['Cuisine'] + '.'\n",
    "\n",
    "# calculate jaccard distance between each restaurant\n",
    "restaurants_jaccard = np.zeros((len(restaurants),len(restaurants)))\n",
    "\n",
    "words_per_restaurant = [set(filter(None, re.split('[.!?,; ]', x.lower()))) for x in restaurants['Augmented Description']]\n",
    "for i in range(0,len(restaurants)):\n",
    "    for j in range(0,len(restaurants)):\n",
    "        restaurants_jaccard[i,j] = len(words_per_restaurant[i].intersection(words_per_restaurant[j])) / len(words_per_restaurant[i].union(words_per_restaurant[j]))\n",
    "        \n",
    "restaurants_jaccard = pd.DataFrame(\n",
    "    restaurants_jaccard,\n",
    "    columns=restaurants['Restaurant Name'],\n",
    "    index=restaurants['Restaurant Name']\n",
    ")"
   ]
  },
  {
   "cell_type": "code",
   "execution_count": null,
   "metadata": {},
   "outputs": [],
   "source": [
    "# Recommendation using jaccard distance\n",
    "def contentfilter_recommendation_jaccard(name, max_suggest):\n",
    "    reviewer_restaurants = reviews[reviews['Reviewer Name'] == name]\n",
    "    fav_restaurants = list(reviewer_restaurants[reviewer_restaurants['Rating'] == reviewer_restaurants['Rating'].max()]['Restaurant Name'])\n",
    "    restaurant_to_input = random.sample(fav_restaurants, 1)[0]\n",
    "    data_ret = restaurants_jaccard.loc[:,restaurant_to_input].sort_values(ascending=False)\n",
    "    \n",
    "    return( data_ret[~data_ret.index.isin(reviewer_restaurants['Restaurant Name'])].head(max_suggest) )"
   ]
  },
  {
   "cell_type": "code",
   "execution_count": null,
   "metadata": {},
   "outputs": [],
   "source": [
    "print( contentfilter_recommendation_jaccard('Calvin Smith', 3) )"
   ]
  },
  {
   "cell_type": "markdown",
   "metadata": {},
   "source": [
    "# TF-IDF"
   ]
  },
  {
   "cell_type": "code",
   "execution_count": null,
   "metadata": {},
   "outputs": [],
   "source": [
    "def TD_IDF(word):\n",
    "    word_count_by_restaurant = restaurants['Augmented Description'].apply(lambda x: list(filter(None, re.split('[.!?,; ]', x.lower()))).count(word.lower()))\n",
    "    total_words_by_restaurant = restaurants['Augmented Description'].apply(lambda x: len(list(filter(None, re.split('[.!?,; ]', x.lower())))))\n",
    "    total_doc = len(restaurants['Augmented Description'])\n",
    "    docs_with_word = sum(word_count_by_restaurant >= 1)\n",
    "    \n",
    "    restaurants_tdidf = pd.DataFrame(\n",
    "        list(word_count_by_restaurant / total_words_by_restaurant * np.log(total_doc / docs_with_word)),\n",
    "        columns=[word.lower()], index=restaurants['Restaurant Name']\n",
    "    )\n",
    "    \n",
    "    return( restaurants_tdidf )"
   ]
  },
  {
   "cell_type": "code",
   "execution_count": null,
   "metadata": {},
   "outputs": [],
   "source": [
    "# top 100 most common words\n",
    "descriptions_all_words = re.split('[.!?,; ]', \" \".join(list(restaurants['Augmented Description'])).lower())\n",
    "most_pop_words = list(pd.Series(filter(None, descriptions_all_words)).value_counts().sort_values(ascending=False).head(100).index)\n",
    "\n",
    "# calculate tf-idf for each word\n",
    "restaurants_td_idf = np.zeros((len(restaurants),len(most_pop_words)))\n",
    "\n",
    "for j in range(0,len(most_pop_words)):\n",
    "    cur_word_td_idf = TD_IDF(most_pop_words[j])\n",
    "    for i in range(0,len(restaurants)): \n",
    "        restaurants_td_idf[i,j] = cur_word_td_idf.iloc[i]\n",
    "        \n",
    "restaurants_td_idf = pd.DataFrame(\n",
    "    restaurants_td_idf,\n",
    "    columns=most_pop_words,\n",
    "    index=restaurants['Restaurant Name']\n",
    ")"
   ]
  },
  {
   "cell_type": "code",
   "execution_count": null,
   "metadata": {},
   "outputs": [],
   "source": [
    "restaurants_td_idf_euclidean = pd.DataFrame(\n",
    "    euclidean_distances(restaurants_td_idf, restaurants_td_idf),\n",
    "    columns=restaurants['Restaurant Name'], index=restaurants['Restaurant Name']\n",
    ")"
   ]
  },
  {
   "cell_type": "code",
   "execution_count": null,
   "metadata": {},
   "outputs": [],
   "source": [
    "def contentfilter_recommendation_td_idf(name, max_suggest):\n",
    "    reviewer_restaurants = reviews[reviews['Reviewer Name'] == name]\n",
    "    fav_restaurants = list(reviewer_restaurants[reviewer_restaurants['Rating'] == reviewer_restaurants['Rating'].max()]['Restaurant Name'])\n",
    "    restaurant_to_input = random.sample(fav_restaurants, 1)[0]\n",
    "    data_ret = restaurants_td_idf_euclidean.loc[:,restaurant_to_input].sort_values(ascending=True)\n",
    "    \n",
    "    return( data_ret[data_ret.index != restaurant_to_input].head(max_suggest) )"
   ]
  },
  {
   "cell_type": "code",
   "execution_count": null,
   "metadata": {},
   "outputs": [],
   "source": [
    "print( contentfilter_recommendation_td_idf('Calvin Smith', 3) )"
   ]
  }
 ],
 "metadata": {
  "kernelspec": {
   "display_name": "base",
   "language": "python",
   "name": "python3"
  },
  "language_info": {
   "codemirror_mode": {
    "name": "ipython",
    "version": 3
   },
   "file_extension": ".py",
   "mimetype": "text/x-python",
   "name": "python",
   "nbconvert_exporter": "python",
   "pygments_lexer": "ipython3",
   "version": "3.11.9"
  }
 },
 "nbformat": 4,
 "nbformat_minor": 2
}
