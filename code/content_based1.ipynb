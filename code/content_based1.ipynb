{
 "cells": [
  {
   "cell_type": "code",
   "execution_count": null,
   "metadata": {},
   "outputs": [],
   "source": [
    "import numpy as np\n",
    "import pandas as pd\n",
    "from sklearn.preprocessing import StandardScaler\n",
    "from sklearn.metrics.pairwise import euclidean_distances, cosine_distances\n",
    "\n",
    "# import and run file\n",
    "from importnb import imports\n",
    "with imports(\"ipynb\"):\n",
    "    import data_preparation\n",
    "%run data_preparation.ipynb"
   ]
  },
  {
   "cell_type": "code",
   "execution_count": null,
   "metadata": {},
   "outputs": [],
   "source": [
    "# one-hot encoding for categorical\n",
    "data_cat = restaurants[['Cuisine', 'Open After 8pm?']]\n",
    "data_cat = pd.get_dummies(data_cat, columns=['Cuisine', 'Open After 8pm?'], drop_first=True, dtype=int)\n",
    "# standardization for numerical\n",
    "data_num = restaurants[['Latitude', 'Longitude', 'Average Cost']]\n",
    "scaler = StandardScaler()\n",
    "data_num = scaler.fit_transform(data_num)\n",
    "\n",
    "data_restaurant = np.column_stack((data_num, data_cat))"
   ]
  },
  {
   "cell_type": "code",
   "execution_count": null,
   "metadata": {},
   "outputs": [],
   "source": [
    "# euclidean distance\n",
    "restaurants_euclidean = pd.DataFrame(\n",
    "    euclidean_distances(data_restaurant, data_restaurant),\n",
    "    columns=restaurants['Restaurant Name'],\n",
    "    index=restaurants['Restaurant Name']\n",
    ")\n",
    "# cosine distance\n",
    "restaurants_cosine = pd.DataFrame(\n",
    "    cosine_distances(data_restaurant, data_restaurant),\n",
    "    columns=restaurants['Restaurant Name'],\n",
    "    index=restaurants['Restaurant Name']\n",
    ")"
   ]
  },
  {
   "cell_type": "code",
   "execution_count": null,
   "metadata": {},
   "outputs": [],
   "source": [
    "def contentfilter_recommendation(name, score_type='Euclidean'):\n",
    "    reviewer_restaurants = reviews[reviews['Reviewer Name'] == name].sort_values(['Rating'], ascending=False)\n",
    "    fav_restaurant = reviewer_restaurants['Restaurant Name'].iloc[0]\n",
    "    if (score_type == 'Cosine'):\n",
    "        data_ret = restaurants_cosine.loc[:,fav_restaurant].sort_values(ascending=True)\n",
    "        return( data_ret[data_ret.index != fav_restaurant].head(10) )\n",
    "    else:\n",
    "        data_ret = restaurants_euclidean.loc[:,fav_restaurant].sort_values(ascending=True)\n",
    "        return( data_ret[data_ret.index != fav_restaurant].head(10) )"
   ]
  },
  {
   "cell_type": "code",
   "execution_count": null,
   "metadata": {},
   "outputs": [],
   "source": [
    "print(contentfilter_recommendation('Willie Jacobsen'))"
   ]
  },
  {
   "cell_type": "code",
   "execution_count": null,
   "metadata": {},
   "outputs": [],
   "source": [
    "print(contentfilter_recommendation('Willie Jacobsen', 'Cosine'))"
   ]
  }
 ],
 "metadata": {
  "kernelspec": {
   "display_name": "base",
   "language": "python",
   "name": "python3"
  },
  "language_info": {
   "codemirror_mode": {
    "name": "ipython",
    "version": 3
   },
   "file_extension": ".py",
   "mimetype": "text/x-python",
   "name": "python",
   "nbconvert_exporter": "python",
   "pygments_lexer": "ipython3",
   "version": "3.11.9"
  }
 },
 "nbformat": 4,
 "nbformat_minor": 2
}
