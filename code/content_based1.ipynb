{
 "cells": [
  {
   "cell_type": "code",
   "execution_count": 5,
   "metadata": {},
   "outputs": [],
   "source": [
    "import numpy as np\n",
    "import pandas as pd\n",
    "from sklearn.preprocessing import StandardScaler\n",
    "from sklearn.metrics.pairwise import euclidean_distances, cosine_distances\n",
    "\n",
    "# import and run file\n",
    "from importnb import imports\n",
    "with imports(\"ipynb\"):\n",
    "    import data_preparation\n",
    "%run data_preparation.ipynb"
   ]
  },
  {
   "cell_type": "code",
   "execution_count": 6,
   "metadata": {},
   "outputs": [],
   "source": [
    "# one-hot encoding for categorical\n",
    "data_cat = restaurants[['Cuisine', 'Open After 8pm?']]\n",
    "data_cat = pd.get_dummies(data_cat, columns=['Cuisine', 'Open After 8pm?'], drop_first=True, dtype=int)\n",
    "# standardization for numerical\n",
    "data_num = restaurants[['Latitude', 'Longitude', 'Average Cost']]\n",
    "scaler = StandardScaler()\n",
    "data_num = scaler.fit_transform(data_num)\n",
    "\n",
    "data_restaurant = np.column_stack((data_num, data_cat))"
   ]
  },
  {
   "cell_type": "code",
   "execution_count": 7,
   "metadata": {},
   "outputs": [],
   "source": [
    "# euclidean distance\n",
    "restaurants_euclidean = pd.DataFrame(\n",
    "    euclidean_distances(data_restaurant, data_restaurant),\n",
    "    columns=restaurants['Restaurant Name'],\n",
    "    index=restaurants['Restaurant Name']\n",
    ")\n",
    "# cosine distance\n",
    "restaurants_cosine = pd.DataFrame(\n",
    "    cosine_distances(data_restaurant, data_restaurant),\n",
    "    columns=restaurants['Restaurant Name'],\n",
    "    index=restaurants['Restaurant Name']\n",
    ")"
   ]
  },
  {
   "cell_type": "code",
   "execution_count": 15,
   "metadata": {},
   "outputs": [],
   "source": [
    "def contentfilter_recommendation(name, score_type='Euclidean'):\n",
    "    reviewer_restaurants = reviews[reviews['Reviewer Name'] == name].sort_values(['Rating'], ascending=False)\n",
    "    fav_restaurant = reviewer_restaurants['Restaurant Name'].iloc[0]\n",
    "    if (score_type == 'Cosine'):\n",
    "        data_ret = restaurants_cosine.loc[:,fav_restaurant].sort_values(ascending=True)\n",
    "        return( data_ret[data_ret.index != fav_restaurant].head(10) )\n",
    "    else:\n",
    "        data_ret = restaurants_euclidean.loc[:,fav_restaurant].sort_values(ascending=True)\n",
    "        return( data_ret[data_ret.index != fav_restaurant].head(10) )"
   ]
  },
  {
   "cell_type": "code",
   "execution_count": 16,
   "metadata": {},
   "outputs": [
    {
     "name": "stdout",
     "output_type": "stream",
     "text": [
      "Restaurant Name\n",
      "Clarkes Off Campus        0.930041\n",
      "Edzo's Burger Shop        1.105218\n",
      "Pâtisserie Coralie        1.120795\n",
      "Philz Coffee              1.221429\n",
      "Hecky's BBQ               1.235294\n",
      "Evanston Chicken Shack    1.301952\n",
      "Le Peep                   1.320877\n",
      "Fridas                    1.331222\n",
      "Prairie Moon              1.369645\n",
      "Mumbai Indian Grill       1.415534\n",
      "Name: Jimmy Johns, dtype: float64\n"
     ]
    }
   ],
   "source": [
    "print(contentfilter_recommendation('Willie Jacobsen'))"
   ]
  },
  {
   "cell_type": "code",
   "execution_count": 17,
   "metadata": {},
   "outputs": [
    {
     "name": "stdout",
     "output_type": "stream",
     "text": [
      "Restaurant Name\n",
      "Soban Korea               0.319224\n",
      "Evanston Chicken Shack    0.365367\n",
      "Kung Fu Tea               0.392735\n",
      "Pâtisserie Coralie        0.394509\n",
      "Edzo's Burger Shop        0.395345\n",
      "Mumbai Indian Grill       0.411291\n",
      "Chipotle                  0.424942\n",
      "Elephant & Vine           0.430580\n",
      "Hokkaido Ramen            0.461365\n",
      "Picnic                    0.469977\n",
      "Name: Jimmy Johns, dtype: float64\n"
     ]
    }
   ],
   "source": [
    "print(contentfilter_recommendation('Willie Jacobsen', 'Cosine'))"
   ]
  }
 ],
 "metadata": {
  "kernelspec": {
   "display_name": "base",
   "language": "python",
   "name": "python3"
  },
  "language_info": {
   "codemirror_mode": {
    "name": "ipython",
    "version": 3
   },
   "file_extension": ".py",
   "mimetype": "text/x-python",
   "name": "python",
   "nbconvert_exporter": "python",
   "pygments_lexer": "ipython3",
   "version": "3.11.9"
  }
 },
 "nbformat": 4,
 "nbformat_minor": 2
}
