{
 "cells": [
  {
   "cell_type": "code",
   "execution_count": null,
   "metadata": {},
   "outputs": [],
   "source": [
    "import numpy as np\n",
    "import pandas as pd\n",
    "from sklearn.preprocessing import StandardScaler\n",
    "from sklearn.metrics.pairwise import euclidean_distances, cosine_distances\n",
    "\n",
    "# import and run file\n",
    "from importnb import imports\n",
    "with imports(\"ipynb\"):\n",
    "    import data_preparation\n",
    "%run data_preparation.ipynb"
   ]
  },
  {
   "cell_type": "code",
   "execution_count": null,
   "metadata": {},
   "outputs": [],
   "source": [
    "# aggregate data for each unique user\n",
    "data = reviews[['Reviewer Name', 'Birth Year', 'Marital Status', 'Has Children?',\n",
    "                'Vegetarian?', 'Weight (lb)', 'Height (in)', 'Average Amount Spent',\n",
    "                'Preferred Mode of Transport', 'Northwestern Student?']]\n",
    "\n",
    "data_users = data.groupby(['Reviewer Name']).agg(**{\n",
    "    'Birth Year': ('Birth Year', lambda x: pd.Series.mode(x)[0]),\n",
    "    'Marital Status': ('Marital Status', lambda x: pd.Series.mode(x)[0]),\n",
    "    'Has Children?': ('Has Children?', lambda x: pd.Series.mode(x)[0]),\n",
    "    'Vegetarian?': ('Vegetarian?', lambda x: pd.Series.mode(x)[0]),\n",
    "    'Weight (lb)': ('Weight (lb)', 'mean'),\n",
    "    'Height (in)': ('Height (in)', 'mean'),\n",
    "    'Average Amount Spent': ('Average Amount Spent', lambda x: pd.Series.mode(x)[0]),\n",
    "    'Preferred Mode of Transport': ('Preferred Mode of Transport', lambda x: pd.Series.mode(x)[0]),\n",
    "    'Northwestern Student?': ('Northwestern Student?', lambda x: pd.Series.mode(x)[0])\n",
    "}).reset_index()\n",
    "\n",
    "data_users = pd.get_dummies(\n",
    "    data_users,\n",
    "    columns=['Marital Status', 'Has Children?', 'Vegetarian?', 'Average Amount Spent',\n",
    "             'Preferred Mode of Transport', 'Northwestern Student?'],\n",
    "    drop_first=True, dtype=int\n",
    ")\n",
    "\n",
    "data_demographics = data_users.drop(columns=['Reviewer Name'])"
   ]
  },
  {
   "cell_type": "code",
   "execution_count": null,
   "metadata": {},
   "outputs": [],
   "source": [
    "user_demo_cosine = pd.DataFrame(\n",
    "    cosine_distances(data_demographics, data_demographics),\n",
    "    columns=data_users['Reviewer Name'],\n",
    "    index=data_users['Reviewer Name']\n",
    ")"
   ]
  },
  {
   "cell_type": "code",
   "execution_count": null,
   "metadata": {},
   "outputs": [],
   "source": [
    "def collab_filter_demographic(name, n_similar):\n",
    "    most_similar_users = user_demo_cosine[user_demo_cosine.index != name][name].sort_values(ascending=True).index[0:n_similar]\n",
    "    possible_recs = reviews[reviews['Reviewer Name'].isin(most_similar_users)].groupby(['Reviewer Name'])\n",
    "    top_recs = possible_recs.apply(lambda x: x[x['Rating'] == x['Rating'].max()])\n",
    "    return( top_recs[['Restaurant Name', 'Rating']].reset_index().drop(columns=['level_1']) )"
   ]
  },
  {
   "cell_type": "code",
   "execution_count": null,
   "metadata": {},
   "outputs": [],
   "source": [
    "print(collab_filter_demographic('Adam Gibbons', 2))"
   ]
  }
 ],
 "metadata": {
  "kernelspec": {
   "display_name": "base",
   "language": "python",
   "name": "python3"
  },
  "language_info": {
   "codemirror_mode": {
    "name": "ipython",
    "version": 3
   },
   "file_extension": ".py",
   "mimetype": "text/x-python",
   "name": "python",
   "nbconvert_exporter": "python",
   "pygments_lexer": "ipython3",
   "version": "3.11.9"
  }
 },
 "nbformat": 4,
 "nbformat_minor": 2
}
