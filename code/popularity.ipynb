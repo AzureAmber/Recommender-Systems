{
 "cells": [
  {
   "cell_type": "code",
   "execution_count": 8,
   "metadata": {},
   "outputs": [],
   "source": [
    "import numpy as np\n",
    "import pandas as pd\n",
    "\n",
    "# import and run file\n",
    "from importnb import imports\n",
    "with imports(\"ipynb\"):\n",
    "    import data_preparation\n",
    "%run data_preparation.ipynb"
   ]
  },
  {
   "cell_type": "code",
   "execution_count": 9,
   "metadata": {},
   "outputs": [],
   "source": [
    "# average rating for each restaurant\n",
    "avg_scores = reviews.groupby(['Restaurant Name']).agg(count=('Rating', 'size'), avg_Rating=('Rating', 'mean')).reset_index()\n",
    "\n",
    "# average shrinkage rating for each restaurant\n",
    "rating_mean = reviews['Rating'].mean()\n",
    "rating_count_mean = avg_scores['count'].mean()\n",
    "avg_scores['shrinkage_Rating'] = (avg_scores['count'] * avg_scores['avg_Rating'] + rating_count_mean * rating_mean) / (avg_scores['count'] + rating_count_mean)\n",
    "\n",
    "\n",
    "\n",
    "# match each restuarant with its average rating\n",
    "data_res_scores = restaurants.merge(avg_scores, how='left', on='Restaurant Name')"
   ]
  },
  {
   "cell_type": "code",
   "execution_count": 10,
   "metadata": {},
   "outputs": [],
   "source": [
    "# popularity matching recommendation system\n",
    "def popularity_recommendation(cuisine_type, max_sugest, score_type='Default'):\n",
    "    if (score_type == 'Shrinkage'):\n",
    "        res_list = data_res_scores[data_res_scores['Cuisine'] == cuisine_type].sort_values(['shrinkage_Rating', 'count'], ascending=[False,False])\n",
    "        return(res_list.loc[:,['Restaurant Name', 'count', 'avg_Rating', 'shrinkage_Rating']].head(max_sugest).reset_index(drop=True))\n",
    "    else:\n",
    "        res_list = data_res_scores[data_res_scores['Cuisine'] == cuisine_type].sort_values(['avg_Rating', 'count'], ascending=[False,False])\n",
    "        return(res_list.loc[:,['Restaurant Name', 'count', 'avg_Rating', 'shrinkage_Rating']].head(max_sugest).reset_index(drop=True))"
   ]
  },
  {
   "cell_type": "code",
   "execution_count": 11,
   "metadata": {},
   "outputs": [
    {
     "name": "stdout",
     "output_type": "stream",
     "text": [
      "  Restaurant Name  count  avg_Rating  shrinkage_Rating\n",
      "0   Fonda Cantina      6    5.000000          4.015475\n",
      "1          Zentli     17    4.764706          4.192601\n",
      "2     Taco Diablo     37    4.297297          4.092667\n",
      "  Restaurant Name  count  avg_Rating  shrinkage_Rating\n",
      "0          Zentli     17    4.764706          4.192601\n",
      "1     Taco Diablo     37    4.297297          4.092667\n",
      "2   Fonda Cantina      6    5.000000          4.015475\n"
     ]
    }
   ],
   "source": [
    "print( popularity_recommendation('Mexican', 3) )\n",
    "\n",
    "print( popularity_recommendation('Mexican', 3, 'Shrinkage') )"
   ]
  }
 ],
 "metadata": {
  "kernelspec": {
   "display_name": "base",
   "language": "python",
   "name": "python3"
  },
  "language_info": {
   "codemirror_mode": {
    "name": "ipython",
    "version": 3
   },
   "file_extension": ".py",
   "mimetype": "text/x-python",
   "name": "python",
   "nbconvert_exporter": "python",
   "pygments_lexer": "ipython3",
   "version": "3.11.9"
  }
 },
 "nbformat": 4,
 "nbformat_minor": 2
}
