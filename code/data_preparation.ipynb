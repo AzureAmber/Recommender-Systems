{
 "cells": [
  {
   "cell_type": "code",
   "execution_count": 1,
   "metadata": {},
   "outputs": [],
   "source": [
    "import numpy as np\n",
    "import pandas as pd"
   ]
  },
  {
   "cell_type": "code",
   "execution_count": 3,
   "metadata": {},
   "outputs": [],
   "source": [
    "# import data\n",
    "restaurants = pd.read_excel('../data/Evanston Restaurant Reviews.xlsx', 'Restaurants')\n",
    "reviews = pd.read_excel('../data/Evanston Restaurant Reviews.xlsx', 'Reviews')\n",
    "\n",
    "# fix restaurant naming\n",
    "reviews['Restaurant Name'] = reviews['Restaurant Name'].str.strip()\n",
    "restaurants['Restaurant Name'] = restaurants['Restaurant Name'].str.strip()\n",
    "\n",
    "# impute missingness in review text as empty string\n",
    "reviews['Review Text'] = reviews['Review Text'].fillna('')\n",
    "\n",
    "# for categorical, add missingness as category\n",
    "reviews['Vegetarian?'] = reviews['Vegetarian?'].fillna('NaN')\n",
    "\n",
    "reviews['Marital Status'] = reviews['Marital Status'].str.lower()\n",
    "reviews['Marital Status'] = reviews['Marital Status'].str.strip()\n",
    "reviews.loc[reviews['Marital Status'] == 'widowed', 'Marital Status'] = 'widow'\n",
    "reviews['Marital Status'] = reviews['Marital Status'].fillna('NaN')\n",
    "\n",
    "reviews['Has Children?'] = reviews['Has Children?'].fillna('NaN')\n",
    "\n",
    "# replace few missing values with mean / median / mode\n",
    "reviews['Weight (lb)'] = reviews['Weight (lb)'].fillna(reviews['Weight (lb)'].mean())\n",
    "reviews['Height (in)'] = reviews['Height (in)'].fillna(reviews['Height (in)'].mean())\n",
    "reviews['Birth Year'] = reviews['Birth Year'].fillna(reviews['Birth Year'].median())\n",
    "reviews['Average Amount Spent'] = reviews['Average Amount Spent'].fillna(reviews['Average Amount Spent'].mode()[0])\n",
    "reviews['Preferred Mode of Transport'] = reviews['Preferred Mode of Transport'].fillna(reviews['Preferred Mode of Transport'].mode()[0])"
   ]
  }
 ],
 "metadata": {
  "kernelspec": {
   "display_name": "base",
   "language": "python",
   "name": "python3"
  },
  "language_info": {
   "codemirror_mode": {
    "name": "ipython",
    "version": 3
   },
   "file_extension": ".py",
   "mimetype": "text/x-python",
   "name": "python",
   "nbconvert_exporter": "python",
   "pygments_lexer": "ipython3",
   "version": "3.11.9"
  }
 },
 "nbformat": 4,
 "nbformat_minor": 2
}
